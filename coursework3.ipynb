{
 "cells": [
  {
   "cell_type": "code",
   "execution_count": 2,
   "metadata": {},
   "outputs": [],
   "source": [
    "import numpy as np"
   ]
  },
  {
   "cell_type": "code",
   "execution_count": 3,
   "metadata": {},
   "outputs": [
    {
     "data": {
      "text/plain": [
       "array([[ 3.495 , -2.449 ],\n",
       "       [ 2.0243, -1.75  ],\n",
       "       [ 3.0567, -1.721 ],\n",
       "       [-0.147 ,  6.767 ]])"
      ]
     },
     "execution_count": 3,
     "metadata": {},
     "output_type": "execute_result"
    }
   ],
   "source": [
    "x = np.array([[-3, -2, 1, -1, 1], \n",
    "              [-1, -4, 0, -1.2, 0.9], \n",
    "              [-2, -2, 1, -0.8, 1.1], \n",
    "              [3, 1, 3, -2, -2]])\n",
    "\n",
    "w = np.array([[-0.465, 0.911], \n",
    "              [-0.146, 0.392], \n",
    "              [0.806, 0.522],\n",
    "              [-0.245, -0.792],\n",
    "              [0.757, -0.246]])\n",
    "\n",
    "v = np.matmul(x, w)\n",
    "v"
   ]
  },
  {
   "cell_type": "code",
   "execution_count": 4,
   "metadata": {},
   "outputs": [
    {
     "data": {
      "text/plain": [
       "array([[9.97385332e-01, 2.61466815e-03],\n",
       "       [9.77561874e-01, 2.24381265e-02],\n",
       "       [9.91654895e-01, 8.34510516e-03],\n",
       "       [9.92788129e-04, 9.99007212e-01]])"
      ]
     },
     "execution_count": 4,
     "metadata": {},
     "output_type": "execute_result"
    }
   ],
   "source": [
    "def softmax(z):\n",
    "    assert len(z.shape) == 2\n",
    "    s = np.max(z, axis=1)\n",
    "    s = s[:, np.newaxis] # necessary step to do broadcasting\n",
    "    e_x = np.exp(z - s)\n",
    "    div = np.sum(e_x, axis=1)\n",
    "    div = div[:, np.newaxis] # dito\n",
    "    return e_x / div\n",
    "\n",
    "softmax(v)"
   ]
  },
  {
   "cell_type": "code",
   "execution_count": 27,
   "metadata": {},
   "outputs": [
    {
     "data": {
      "text/plain": [
       "array([[ 0.99845277, -0.99783388],\n",
       "       [ 0.99845277, -0.99783388]])"
      ]
     },
     "execution_count": 27,
     "metadata": {},
     "output_type": "execute_result"
    }
   ],
   "source": [
    "learning_rate = 0.25\n",
    "\n",
    "def sigmoid(s):\n",
    "    return 1 / (1 + np.exp(-s))\n",
    "\n",
    "x = np.array([0.5, 0.7])\n",
    "u = np.array([[1, -1], [1, -1]])\n",
    "f1 = np.matmul(x, u)\n",
    "f1_hat = sigmoid(f1)\n",
    "w = np.array([-0.5, 0.5])\n",
    "f2 = np.matmul(f1_hat, w)\n",
    "y_hat = sigmoid(f2)\n",
    "y = 1\n",
    "\n",
    "L = ((y - y_hat) ** 2) / 2\n",
    "\n",
    "dw = -learning_rate * (y_hat - y) * sigmoid(f2) * (1 - sigmoid(f2)) * f1_hat\n",
    "\n",
    "w_plus = np.add(w, dw)\n",
    "\n",
    "du = -learning_rate * (y_hat - y) * (y_hat * (1 - y_hat)) * w * f1_hat * (1 - f1_hat) * x\n",
    "\n",
    "u_plus = u + du\n",
    "\n",
    "u_plus"
   ]
  },
  {
   "cell_type": "code",
   "execution_count": null,
   "metadata": {},
   "outputs": [],
   "source": []
  }
 ],
 "metadata": {
  "kernelspec": {
   "display_name": ".venv",
   "language": "python",
   "name": "python3"
  },
  "language_info": {
   "codemirror_mode": {
    "name": "ipython",
    "version": 3
   },
   "file_extension": ".py",
   "mimetype": "text/x-python",
   "name": "python",
   "nbconvert_exporter": "python",
   "pygments_lexer": "ipython3",
   "version": "3.9.6"
  }
 },
 "nbformat": 4,
 "nbformat_minor": 2
}
